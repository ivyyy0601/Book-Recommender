{
 "cells": [
  {
   "metadata": {},
   "cell_type": "markdown",
   "source": [
    "# 📚 Books 情绪分析流程总结\n",
    "\n",
    "1. **数据准备**\n",
    "   - 读取 `books_with_categories.csv`，包含书籍元数据（isbn13, title, description 等）。\n",
    "\n",
    "2. **构建情绪分类器**\n",
    "   - 使用 Hugging Face 模型：`j-hartmann/emotion-english-distilroberta-base`\n",
    "   - 输出 7 类情绪：anger, disgust, fear, joy, sadness, surprise, neutral\n",
    "\n",
    "3. **句子级预测**\n",
    "   - 将书籍简介 `description` 按句号切分 → `classifier(sentences)` → 得到逐句情绪分布。\n",
    "\n",
    "4. **图书级特征提取**\n",
    "   - 对每本书的所有句子取 **各情绪的最大值** → 生成情绪向量。\n",
    "\n",
    "5. **批量处理与合并**\n",
    "   - 遍历所有书籍，生成情绪 DataFrame → 与原始 books 数据按 `isbn13` 合并。\n",
    "\n",
    "6. **保存结果**\n",
    "   - 导出为 `books_with_emotions.csv`，每本书多出 7 个情绪特征列。\n",
    "\n",
    "✅ 最终结果：\n",
    "每本书拥有 **原始信息 + 情绪特征向量**，可用于推荐、补全分类或分析。\n"
   ],
   "id": "e99c8536822c903a"
  },
  {
   "cell_type": "code",
   "id": "initial_id",
   "metadata": {
    "collapsed": true,
    "ExecuteTime": {
     "end_time": "2025-09-25T03:43:28.443268Z",
     "start_time": "2025-09-25T03:43:28.408270Z"
    }
   },
   "source": [
    "import pandas as pd\n",
    "\n",
    "books = pd.read_csv(\"books_with_categories.csv\")"
   ],
   "outputs": [],
   "execution_count": 1
  },
  {
   "metadata": {
    "ExecuteTime": {
     "end_time": "2025-09-25T03:45:30.585949Z",
     "start_time": "2025-09-25T03:45:30.223999Z"
    }
   },
   "cell_type": "code",
   "source": [
    "from transformers import pipeline\n",
    "classifier = pipeline(\"text-classification\",\n",
    "                      model=\"j-hartmann/emotion-english-distilroberta-base\",\n",
    "                      top_k = None,\n",
    "                      device = \"mps\")\n",
    "classifier(\"I love this!\")\n",
    "#不同硬件（CPU vs GPU vs MPS）在浮点运算上会有 非确定性差异，即使输入相同，输出的概率也可能略有不同。"
   ],
   "id": "c044f07184a6d16a",
   "outputs": [
    {
     "name": "stderr",
     "output_type": "stream",
     "text": [
      "Device set to use mps\n"
     ]
    },
    {
     "data": {
      "text/plain": [
       "[[{'label': 'surprise', 'score': 0.48696979880332947},\n",
       "  {'label': 'neutral', 'score': 0.2234414517879486},\n",
       "  {'label': 'joy', 'score': 0.14913064241409302},\n",
       "  {'label': 'anger', 'score': 0.07174026966094971},\n",
       "  {'label': 'sadness', 'score': 0.04664652422070503},\n",
       "  {'label': 'disgust', 'score': 0.01629774644970894},\n",
       "  {'label': 'fear', 'score': 0.005773560609668493}]]"
      ]
     },
     "execution_count": 7,
     "metadata": {},
     "output_type": "execute_result"
    }
   ],
   "execution_count": 7
  },
  {
   "metadata": {
    "ExecuteTime": {
     "end_time": "2025-09-25T03:47:20.548455Z",
     "start_time": "2025-09-25T03:47:20.537870Z"
    }
   },
   "cell_type": "code",
   "source": "books[\"description\"][0]",
   "id": "232cf2d52f323f85",
   "outputs": [
    {
     "data": {
      "text/plain": [
       "'A NOVEL THAT READERS and critics have been eagerly anticipating for over a decade, Gilead is an astonishingly imagined story of remarkable lives. John Ames is a preacher, the son of a preacher and the grandson (both maternal and paternal) of preachers. It’s 1956 in Gilead, Iowa, towards the end of the Reverend Ames’s life, and he is absorbed in recording his family’s story, a legacy for the young son he will never see grow up. Haunted by his grandfather’s presence, John tells of the rift between his grandfather and his father: the elder, an angry visionary who fought for the abolitionist cause, and his son, an ardent pacifist. He is troubled, too, by his prodigal namesake, Jack (John Ames) Boughton, his best friend’s lost son who returns to Gilead searching for forgiveness and redemption. Told in John Ames’s joyous, rambling voice that finds beauty, humour and truth in the smallest of life’s details, Gilead is a song of celebration and acceptance of the best and the worst the world has to offer. At its heart is a tale of the sacred bonds between fathers and sons, pitch-perfect in style and story, set to dazzle critics and readers alike.'"
      ]
     },
     "execution_count": 8,
     "metadata": {},
     "output_type": "execute_result"
    }
   ],
   "execution_count": 8
  },
  {
   "metadata": {
    "ExecuteTime": {
     "end_time": "2025-09-25T03:47:28.960661Z",
     "start_time": "2025-09-25T03:47:28.359678Z"
    }
   },
   "cell_type": "code",
   "source": "classifier(books[\"description\"][0])",
   "id": "9ec6810dc25d20f9",
   "outputs": [
    {
     "data": {
      "text/plain": [
       "[[{'label': 'fear', 'score': 0.654841423034668},\n",
       "  {'label': 'neutral', 'score': 0.16985200345516205},\n",
       "  {'label': 'sadness', 'score': 0.11640875786542892},\n",
       "  {'label': 'surprise', 'score': 0.02070065401494503},\n",
       "  {'label': 'disgust', 'score': 0.019100766628980637},\n",
       "  {'label': 'joy', 'score': 0.015161258168518543},\n",
       "  {'label': 'anger', 'score': 0.003935154993087053}]]"
      ]
     },
     "execution_count": 9,
     "metadata": {},
     "output_type": "execute_result"
    }
   ],
   "execution_count": 9
  },
  {
   "metadata": {
    "ExecuteTime": {
     "end_time": "2025-09-25T03:49:09.640649Z",
     "start_time": "2025-09-25T03:49:08.212903Z"
    }
   },
   "cell_type": "code",
   "source": "classifier(books[\"description\"][0].split(\".\"))",
   "id": "4f624f007e61ab35",
   "outputs": [
    {
     "data": {
      "text/plain": [
       "[[{'label': 'surprise', 'score': 0.7296027541160583},\n",
       "  {'label': 'neutral', 'score': 0.1403856724500656},\n",
       "  {'label': 'fear', 'score': 0.06816212832927704},\n",
       "  {'label': 'joy', 'score': 0.047942448407411575},\n",
       "  {'label': 'anger', 'score': 0.009156345389783382},\n",
       "  {'label': 'disgust', 'score': 0.0026284728664904833},\n",
       "  {'label': 'sadness', 'score': 0.002122161677107215}],\n",
       " [{'label': 'neutral', 'score': 0.44937166571617126},\n",
       "  {'label': 'disgust', 'score': 0.2735905349254608},\n",
       "  {'label': 'joy', 'score': 0.10908280313014984},\n",
       "  {'label': 'sadness', 'score': 0.09362749755382538},\n",
       "  {'label': 'anger', 'score': 0.040478236973285675},\n",
       "  {'label': 'surprise', 'score': 0.02697022631764412},\n",
       "  {'label': 'fear', 'score': 0.006879068911075592}],\n",
       " [{'label': 'neutral', 'score': 0.6462157964706421},\n",
       "  {'label': 'sadness', 'score': 0.24273350834846497},\n",
       "  {'label': 'disgust', 'score': 0.0434226468205452},\n",
       "  {'label': 'surprise', 'score': 0.028300516307353973},\n",
       "  {'label': 'joy', 'score': 0.01421145349740982},\n",
       "  {'label': 'fear', 'score': 0.014084119349718094},\n",
       "  {'label': 'anger', 'score': 0.011031894013285637}],\n",
       " [{'label': 'fear', 'score': 0.9281684160232544},\n",
       "  {'label': 'anger', 'score': 0.03219081833958626},\n",
       "  {'label': 'neutral', 'score': 0.01280867401510477},\n",
       "  {'label': 'sadness', 'score': 0.008756855502724648},\n",
       "  {'label': 'surprise', 'score': 0.008597873151302338},\n",
       "  {'label': 'disgust', 'score': 0.008431804366409779},\n",
       "  {'label': 'joy', 'score': 0.0010455820010975003}],\n",
       " [{'label': 'sadness', 'score': 0.9671574234962463},\n",
       "  {'label': 'neutral', 'score': 0.015104176476597786},\n",
       "  {'label': 'disgust', 'score': 0.006480601150542498},\n",
       "  {'label': 'fear', 'score': 0.005393999628722668},\n",
       "  {'label': 'surprise', 'score': 0.00228694174438715},\n",
       "  {'label': 'anger', 'score': 0.0018428900511935353},\n",
       "  {'label': 'joy', 'score': 0.0017338786274194717}],\n",
       " [{'label': 'joy', 'score': 0.9327983260154724},\n",
       "  {'label': 'disgust', 'score': 0.03771689906716347},\n",
       "  {'label': 'neutral', 'score': 0.01589181460440159},\n",
       "  {'label': 'sadness', 'score': 0.006444479804486036},\n",
       "  {'label': 'anger', 'score': 0.005024959798902273},\n",
       "  {'label': 'surprise', 'score': 0.0015812062192708254},\n",
       "  {'label': 'fear', 'score': 0.0005423052934929729}],\n",
       " [{'label': 'joy', 'score': 0.6528695821762085},\n",
       "  {'label': 'neutral', 'score': 0.2542755901813507},\n",
       "  {'label': 'surprise', 'score': 0.0680832639336586},\n",
       "  {'label': 'sadness', 'score': 0.009909032844007015},\n",
       "  {'label': 'disgust', 'score': 0.006512231659144163},\n",
       "  {'label': 'anger', 'score': 0.004821327514946461},\n",
       "  {'label': 'fear', 'score': 0.003529028967022896}],\n",
       " [{'label': 'neutral', 'score': 0.6089329123497009},\n",
       "  {'label': 'disgust', 'score': 0.15766695141792297},\n",
       "  {'label': 'sadness', 'score': 0.07482506334781647},\n",
       "  {'label': 'anger', 'score': 0.051973048597574234},\n",
       "  {'label': 'surprise', 'score': 0.04693116247653961},\n",
       "  {'label': 'fear', 'score': 0.038786713033914566},\n",
       "  {'label': 'joy', 'score': 0.020884130150079727}]]"
      ]
     },
     "execution_count": 10,
     "metadata": {},
     "output_type": "execute_result"
    }
   ],
   "execution_count": 10
  },
  {
   "metadata": {
    "ExecuteTime": {
     "end_time": "2025-09-25T03:49:48.957889Z",
     "start_time": "2025-09-25T03:49:48.806692Z"
    }
   },
   "cell_type": "code",
   "source": [
    "sentences = books[\"description\"][0].split(\".\")\n",
    "predictions = classifier(sentences)#我们的模型classifier"
   ],
   "id": "151733c65dc7fafd",
   "outputs": [],
   "execution_count": 11
  },
  {
   "metadata": {
    "ExecuteTime": {
     "end_time": "2025-09-25T03:50:05.516037Z",
     "start_time": "2025-09-25T03:50:05.513263Z"
    }
   },
   "cell_type": "code",
   "source": "sentences[0]",
   "id": "598b590a23503888",
   "outputs": [
    {
     "data": {
      "text/plain": [
       "'A NOVEL THAT READERS and critics have been eagerly anticipating for over a decade, Gilead is an astonishingly imagined story of remarkable lives'"
      ]
     },
     "execution_count": 12,
     "metadata": {},
     "output_type": "execute_result"
    }
   ],
   "execution_count": 12
  },
  {
   "metadata": {
    "ExecuteTime": {
     "end_time": "2025-09-25T03:50:07.204863Z",
     "start_time": "2025-09-25T03:50:07.200981Z"
    }
   },
   "cell_type": "code",
   "source": "predictions[0]",
   "id": "e085d62f769bcae9",
   "outputs": [
    {
     "data": {
      "text/plain": [
       "[{'label': 'surprise', 'score': 0.7296027541160583},\n",
       " {'label': 'neutral', 'score': 0.1403856724500656},\n",
       " {'label': 'fear', 'score': 0.06816212832927704},\n",
       " {'label': 'joy', 'score': 0.047942448407411575},\n",
       " {'label': 'anger', 'score': 0.009156345389783382},\n",
       " {'label': 'disgust', 'score': 0.0026284728664904833},\n",
       " {'label': 'sadness', 'score': 0.002122161677107215}]"
      ]
     },
     "execution_count": 13,
     "metadata": {},
     "output_type": "execute_result"
    }
   ],
   "execution_count": 13
  },
  {
   "metadata": {
    "ExecuteTime": {
     "end_time": "2025-09-25T03:50:20.174548Z",
     "start_time": "2025-09-25T03:50:20.171389Z"
    }
   },
   "cell_type": "code",
   "source": "sentences[3]",
   "id": "285c9f9d8295a159",
   "outputs": [
    {
     "data": {
      "text/plain": [
       "' Haunted by his grandfather’s presence, John tells of the rift between his grandfather and his father: the elder, an angry visionary who fought for the abolitionist cause, and his son, an ardent pacifist'"
      ]
     },
     "execution_count": 14,
     "metadata": {},
     "output_type": "execute_result"
    }
   ],
   "execution_count": 14
  },
  {
   "metadata": {
    "ExecuteTime": {
     "end_time": "2025-09-25T03:50:39.436649Z",
     "start_time": "2025-09-25T03:50:39.433102Z"
    }
   },
   "cell_type": "code",
   "source": "predictions[3]",
   "id": "e45872f1d86dd856",
   "outputs": [
    {
     "data": {
      "text/plain": [
       "[{'label': 'fear', 'score': 0.9281684160232544},\n",
       " {'label': 'anger', 'score': 0.03219081833958626},\n",
       " {'label': 'neutral', 'score': 0.01280867401510477},\n",
       " {'label': 'sadness', 'score': 0.008756855502724648},\n",
       " {'label': 'surprise', 'score': 0.008597873151302338},\n",
       " {'label': 'disgust', 'score': 0.008431804366409779},\n",
       " {'label': 'joy', 'score': 0.0010455820010975003}]"
      ]
     },
     "execution_count": 15,
     "metadata": {},
     "output_type": "execute_result"
    }
   ],
   "execution_count": 15
  },
  {
   "metadata": {
    "ExecuteTime": {
     "end_time": "2025-09-25T03:51:39.249169Z",
     "start_time": "2025-09-25T03:51:39.243540Z"
    }
   },
   "cell_type": "code",
   "source": "predictions",
   "id": "309b323c765c8027",
   "outputs": [
    {
     "data": {
      "text/plain": [
       "[[{'label': 'surprise', 'score': 0.7296027541160583},\n",
       "  {'label': 'neutral', 'score': 0.1403856724500656},\n",
       "  {'label': 'fear', 'score': 0.06816212832927704},\n",
       "  {'label': 'joy', 'score': 0.047942448407411575},\n",
       "  {'label': 'anger', 'score': 0.009156345389783382},\n",
       "  {'label': 'disgust', 'score': 0.0026284728664904833},\n",
       "  {'label': 'sadness', 'score': 0.002122161677107215}],\n",
       " [{'label': 'neutral', 'score': 0.44937166571617126},\n",
       "  {'label': 'disgust', 'score': 0.2735905349254608},\n",
       "  {'label': 'joy', 'score': 0.10908280313014984},\n",
       "  {'label': 'sadness', 'score': 0.09362749755382538},\n",
       "  {'label': 'anger', 'score': 0.040478236973285675},\n",
       "  {'label': 'surprise', 'score': 0.02697022631764412},\n",
       "  {'label': 'fear', 'score': 0.006879068911075592}],\n",
       " [{'label': 'neutral', 'score': 0.6462157964706421},\n",
       "  {'label': 'sadness', 'score': 0.24273350834846497},\n",
       "  {'label': 'disgust', 'score': 0.0434226468205452},\n",
       "  {'label': 'surprise', 'score': 0.028300516307353973},\n",
       "  {'label': 'joy', 'score': 0.01421145349740982},\n",
       "  {'label': 'fear', 'score': 0.014084119349718094},\n",
       "  {'label': 'anger', 'score': 0.011031894013285637}],\n",
       " [{'label': 'fear', 'score': 0.9281684160232544},\n",
       "  {'label': 'anger', 'score': 0.03219081833958626},\n",
       "  {'label': 'neutral', 'score': 0.01280867401510477},\n",
       "  {'label': 'sadness', 'score': 0.008756855502724648},\n",
       "  {'label': 'surprise', 'score': 0.008597873151302338},\n",
       "  {'label': 'disgust', 'score': 0.008431804366409779},\n",
       "  {'label': 'joy', 'score': 0.0010455820010975003}],\n",
       " [{'label': 'sadness', 'score': 0.9671574234962463},\n",
       "  {'label': 'neutral', 'score': 0.015104176476597786},\n",
       "  {'label': 'disgust', 'score': 0.006480601150542498},\n",
       "  {'label': 'fear', 'score': 0.005393999628722668},\n",
       "  {'label': 'surprise', 'score': 0.00228694174438715},\n",
       "  {'label': 'anger', 'score': 0.0018428900511935353},\n",
       "  {'label': 'joy', 'score': 0.0017338786274194717}],\n",
       " [{'label': 'joy', 'score': 0.9327983260154724},\n",
       "  {'label': 'disgust', 'score': 0.03771689906716347},\n",
       "  {'label': 'neutral', 'score': 0.01589181460440159},\n",
       "  {'label': 'sadness', 'score': 0.006444479804486036},\n",
       "  {'label': 'anger', 'score': 0.005024959798902273},\n",
       "  {'label': 'surprise', 'score': 0.0015812062192708254},\n",
       "  {'label': 'fear', 'score': 0.0005423052934929729}],\n",
       " [{'label': 'joy', 'score': 0.6528695821762085},\n",
       "  {'label': 'neutral', 'score': 0.2542755901813507},\n",
       "  {'label': 'surprise', 'score': 0.0680832639336586},\n",
       "  {'label': 'sadness', 'score': 0.009909032844007015},\n",
       "  {'label': 'disgust', 'score': 0.006512231659144163},\n",
       "  {'label': 'anger', 'score': 0.004821327514946461},\n",
       "  {'label': 'fear', 'score': 0.003529028967022896}],\n",
       " [{'label': 'neutral', 'score': 0.6089329123497009},\n",
       "  {'label': 'disgust', 'score': 0.15766695141792297},\n",
       "  {'label': 'sadness', 'score': 0.07482506334781647},\n",
       "  {'label': 'anger', 'score': 0.051973048597574234},\n",
       "  {'label': 'surprise', 'score': 0.04693116247653961},\n",
       "  {'label': 'fear', 'score': 0.038786713033914566},\n",
       "  {'label': 'joy', 'score': 0.020884130150079727}]]"
      ]
     },
     "execution_count": 16,
     "metadata": {},
     "output_type": "execute_result"
    }
   ],
   "execution_count": 16
  },
  {
   "metadata": {
    "ExecuteTime": {
     "end_time": "2025-09-25T03:51:59.992993Z",
     "start_time": "2025-09-25T03:51:59.989866Z"
    }
   },
   "cell_type": "code",
   "source": "sorted(predictions[0], key=lambda x: x[\"label\"])",
   "id": "26056576d02125a",
   "outputs": [
    {
     "data": {
      "text/plain": [
       "[{'label': 'anger', 'score': 0.009156345389783382},\n",
       " {'label': 'disgust', 'score': 0.0026284728664904833},\n",
       " {'label': 'fear', 'score': 0.06816212832927704},\n",
       " {'label': 'joy', 'score': 0.047942448407411575},\n",
       " {'label': 'neutral', 'score': 0.1403856724500656},\n",
       " {'label': 'sadness', 'score': 0.002122161677107215},\n",
       " {'label': 'surprise', 'score': 0.7296027541160583}]"
      ]
     },
     "execution_count": 17,
     "metadata": {},
     "output_type": "execute_result"
    }
   ],
   "execution_count": 17
  },
  {
   "metadata": {
    "ExecuteTime": {
     "end_time": "2025-09-25T03:54:36.898842Z",
     "start_time": "2025-09-25T03:54:36.895093Z"
    }
   },
   "cell_type": "code",
   "source": [
    "import numpy as np\n",
    "\n",
    "emotion_labels = [\"anger\", \"disgust\", \"fear\", \"joy\", \"sadness\", \"surprise\", \"neutral\"]\n",
    "isbn = []\n",
    "emotion_scores = {label: [] for label in emotion_labels}\n",
    "\n",
    "def calculate_max_emotion_scores(predictions):\n",
    "    per_emotion_scores = {label: [] for label in emotion_labels}\n",
    "    for prediction in predictions:\n",
    "        sorted_predictions = sorted(prediction, key=lambda x: x[\"label\"])\n",
    "        for index, label in enumerate(emotion_labels):\n",
    "            per_emotion_scores[label].append(sorted_predictions[index][\"score\"])\n",
    "    return {label: np.max(scores) for label, scores in per_emotion_scores.items()}\n",
    "#对每个情绪，取这个书所有句子里的 最高分，作为该书在该情绪下的“代表性强度”。"
   ],
   "id": "6f0a95ea1d46f389",
   "outputs": [],
   "execution_count": 19
  },
  {
   "metadata": {
    "ExecuteTime": {
     "end_time": "2025-09-25T03:54:58.507526Z",
     "start_time": "2025-09-25T03:54:55.940148Z"
    }
   },
   "cell_type": "code",
   "source": [
    "for i in range(10):\n",
    "    isbn.append(books[\"isbn13\"][i])\n",
    "    sentences = books[\"description\"][i].split(\".\")\n",
    "    predictions = classifier(sentences)\n",
    "    max_scores = calculate_max_emotion_scores(predictions)\n",
    "    for label in emotion_labels:\n",
    "        emotion_scores[label].append(max_scores[label])\n",
    "#批量处理前 10 本书的简介，把每本书的情绪得分算出来"
   ],
   "id": "3ef7477d18297196",
   "outputs": [],
   "execution_count": 20
  },
  {
   "metadata": {
    "ExecuteTime": {
     "end_time": "2025-09-25T03:55:09.112322Z",
     "start_time": "2025-09-25T03:55:09.108968Z"
    }
   },
   "cell_type": "code",
   "source": "emotion_scores",
   "id": "1d84951c15c846f4",
   "outputs": [
    {
     "data": {
      "text/plain": [
       "{'anger': [np.float64(0.051973048597574234),\n",
       "  np.float64(0.6126187443733215),\n",
       "  np.float64(0.051973048597574234),\n",
       "  np.float64(0.3514830768108368),\n",
       "  np.float64(0.08141232281923294),\n",
       "  np.float64(0.23222492635250092),\n",
       "  np.float64(0.5381841063499451),\n",
       "  np.float64(0.051973048597574234),\n",
       "  np.float64(0.300670862197876),\n",
       "  np.float64(0.051973048597574234)],\n",
       " 'disgust': [np.float64(0.2735905349254608),\n",
       "  np.float64(0.348285436630249),\n",
       "  np.float64(0.15766695141792297),\n",
       "  np.float64(0.15766695141792297),\n",
       "  np.float64(0.18449515104293823),\n",
       "  np.float64(0.7271747589111328),\n",
       "  np.float64(0.15766695141792297),\n",
       "  np.float64(0.15766695141792297),\n",
       "  np.float64(0.27948087453842163),\n",
       "  np.float64(0.17792636156082153)],\n",
       " 'fear': [np.float64(0.9281684160232544),\n",
       "  np.float64(0.942527711391449),\n",
       "  np.float64(0.9723208546638489),\n",
       "  np.float64(0.3607070744037628),\n",
       "  np.float64(0.09504328668117523),\n",
       "  np.float64(0.038786713033914566),\n",
       "  np.float64(0.747427761554718),\n",
       "  np.float64(0.4044956862926483),\n",
       "  np.float64(0.9155241250991821),\n",
       "  np.float64(0.04945676401257515)],\n",
       " 'joy': [np.float64(0.9327983260154724),\n",
       "  np.float64(0.7044212222099304),\n",
       "  np.float64(0.7672367691993713),\n",
       "  np.float64(0.25188055634498596),\n",
       "  np.float64(0.035206861793994904),\n",
       "  np.float64(0.04337586835026741),\n",
       "  np.float64(0.8725650906562805),\n",
       "  np.float64(0.020884130150079727),\n",
       "  np.float64(0.021228468045592308),\n",
       "  np.float64(0.03219759464263916)],\n",
       " 'sadness': [np.float64(0.6462157964706421),\n",
       "  np.float64(0.8879395127296448),\n",
       "  np.float64(0.6089329123497009),\n",
       "  np.float64(0.7326871156692505),\n",
       "  np.float64(0.9259037375450134),\n",
       "  np.float64(0.6213928461074829),\n",
       "  np.float64(0.7121942639350891),\n",
       "  np.float64(0.6089329123497009),\n",
       "  np.float64(0.8402898907661438),\n",
       "  np.float64(0.8874109387397766)],\n",
       " 'surprise': [np.float64(0.9671574234962463),\n",
       "  np.float64(0.07482506334781647),\n",
       "  np.float64(0.07482506334781647),\n",
       "  np.float64(0.07482506334781647),\n",
       "  np.float64(0.47588104009628296),\n",
       "  np.float64(0.10239062458276749),\n",
       "  np.float64(0.40799808502197266),\n",
       "  np.float64(0.8202821612358093),\n",
       "  np.float64(0.35445982217788696),\n",
       "  np.float64(0.07482506334781647)],\n",
       " 'neutral': [np.float64(0.7296027541160583),\n",
       "  np.float64(0.25254493951797485),\n",
       "  np.float64(0.04693116247653961),\n",
       "  np.float64(0.04693116247653961),\n",
       "  np.float64(0.04693116247653961),\n",
       "  np.float64(0.27190250158309937),\n",
       "  np.float64(0.07205012440681458),\n",
       "  np.float64(0.23448757827281952),\n",
       "  np.float64(0.13561470806598663),\n",
       "  np.float64(0.04714181646704674)]}"
      ]
     },
     "execution_count": 21,
     "metadata": {},
     "output_type": "execute_result"
    }
   ],
   "execution_count": 21
  },
  {
   "metadata": {
    "ExecuteTime": {
     "end_time": "2025-09-25T04:01:18.912929Z",
     "start_time": "2025-09-25T03:58:47.051555Z"
    }
   },
   "cell_type": "code",
   "source": [
    "from tqdm import tqdm\n",
    "\n",
    "emotion_labels = [\"anger\", \"disgust\", \"fear\", \"joy\", \"sadness\", \"surprise\", \"neutral\"]\n",
    "isbn = []\n",
    "emotion_scores = {label: [] for label in emotion_labels}\n",
    "\n",
    "for i in tqdm(range(len(books))):\n",
    "    isbn.append(books[\"isbn13\"][i])\n",
    "    sentences = books[\"description\"][i].split(\".\")\n",
    "    predictions = classifier(sentences)\n",
    "    max_scores = calculate_max_emotion_scores(predictions)\n",
    "    for label in emotion_labels:\n",
    "        emotion_scores[label].append(max_scores[label])"
   ],
   "id": "ed50c1629246057d",
   "outputs": [
    {
     "name": "stderr",
     "output_type": "stream",
     "text": [
      "100%|██████████| 5197/5197 [02:31<00:00, 34.22it/s]\n"
     ]
    }
   ],
   "execution_count": 22
  },
  {
   "metadata": {},
   "cell_type": "markdown",
   "source": [
    "全部书\n",
    "\n",
    "\n",
    "对一本书的所有句子，找出每种情绪的 最大得分。"
   ],
   "id": "3549be99174999c1"
  },
  {
   "metadata": {
    "ExecuteTime": {
     "end_time": "2025-09-25T04:01:22.032677Z",
     "start_time": "2025-09-25T04:01:22.022994Z"
    }
   },
   "cell_type": "code",
   "source": [
    "emotions_df = pd.DataFrame(emotion_scores)\n",
    "emotions_df[\"isbn13\"] = isbn"
   ],
   "id": "178124361c2a9e10",
   "outputs": [],
   "execution_count": 24
  },
  {
   "metadata": {
    "ExecuteTime": {
     "end_time": "2025-09-25T04:01:23.010315Z",
     "start_time": "2025-09-25T04:01:22.997765Z"
    }
   },
   "cell_type": "code",
   "source": "emotions_df",
   "id": "fc03df3d5fcf4d17",
   "outputs": [
    {
     "data": {
      "text/plain": [
       "         anger   disgust      fear       joy   sadness  surprise   neutral  \\\n",
       "0     0.051973  0.273591  0.928168  0.932798  0.646216  0.967157  0.729603   \n",
       "1     0.612619  0.348285  0.942528  0.704421  0.887940  0.074825  0.252545   \n",
       "2     0.051973  0.157667  0.972321  0.767237  0.608933  0.074825  0.046931   \n",
       "3     0.351483  0.157667  0.360707  0.251881  0.732687  0.074825  0.046931   \n",
       "4     0.081412  0.184495  0.095043  0.035207  0.925904  0.475881  0.046931   \n",
       "...        ...       ...       ...       ...       ...       ...       ...   \n",
       "5192  0.148209  0.030643  0.919165  0.255170  0.853722  0.980877  0.030656   \n",
       "5193  0.057145  0.157667  0.038787  0.400263  0.883199  0.074825  0.227765   \n",
       "5194  0.009997  0.009929  0.339217  0.947779  0.375756  0.066685  0.057625   \n",
       "5195  0.051973  0.157667  0.459269  0.759455  0.951104  0.368110  0.067808   \n",
       "5196  0.051973  0.157667  0.038787  0.958549  0.915193  0.074825  0.046931   \n",
       "\n",
       "             isbn13  \n",
       "0     9780002005883  \n",
       "1     9780002261982  \n",
       "2     9780006178736  \n",
       "3     9780006280897  \n",
       "4     9780006280934  \n",
       "...             ...  \n",
       "5192  9788172235222  \n",
       "5193  9788173031014  \n",
       "5194  9788179921623  \n",
       "5195  9788185300535  \n",
       "5196  9789027712059  \n",
       "\n",
       "[5197 rows x 8 columns]"
      ],
      "text/html": [
       "<div>\n",
       "<style scoped>\n",
       "    .dataframe tbody tr th:only-of-type {\n",
       "        vertical-align: middle;\n",
       "    }\n",
       "\n",
       "    .dataframe tbody tr th {\n",
       "        vertical-align: top;\n",
       "    }\n",
       "\n",
       "    .dataframe thead th {\n",
       "        text-align: right;\n",
       "    }\n",
       "</style>\n",
       "<table border=\"1\" class=\"dataframe\">\n",
       "  <thead>\n",
       "    <tr style=\"text-align: right;\">\n",
       "      <th></th>\n",
       "      <th>anger</th>\n",
       "      <th>disgust</th>\n",
       "      <th>fear</th>\n",
       "      <th>joy</th>\n",
       "      <th>sadness</th>\n",
       "      <th>surprise</th>\n",
       "      <th>neutral</th>\n",
       "      <th>isbn13</th>\n",
       "    </tr>\n",
       "  </thead>\n",
       "  <tbody>\n",
       "    <tr>\n",
       "      <th>0</th>\n",
       "      <td>0.051973</td>\n",
       "      <td>0.273591</td>\n",
       "      <td>0.928168</td>\n",
       "      <td>0.932798</td>\n",
       "      <td>0.646216</td>\n",
       "      <td>0.967157</td>\n",
       "      <td>0.729603</td>\n",
       "      <td>9780002005883</td>\n",
       "    </tr>\n",
       "    <tr>\n",
       "      <th>1</th>\n",
       "      <td>0.612619</td>\n",
       "      <td>0.348285</td>\n",
       "      <td>0.942528</td>\n",
       "      <td>0.704421</td>\n",
       "      <td>0.887940</td>\n",
       "      <td>0.074825</td>\n",
       "      <td>0.252545</td>\n",
       "      <td>9780002261982</td>\n",
       "    </tr>\n",
       "    <tr>\n",
       "      <th>2</th>\n",
       "      <td>0.051973</td>\n",
       "      <td>0.157667</td>\n",
       "      <td>0.972321</td>\n",
       "      <td>0.767237</td>\n",
       "      <td>0.608933</td>\n",
       "      <td>0.074825</td>\n",
       "      <td>0.046931</td>\n",
       "      <td>9780006178736</td>\n",
       "    </tr>\n",
       "    <tr>\n",
       "      <th>3</th>\n",
       "      <td>0.351483</td>\n",
       "      <td>0.157667</td>\n",
       "      <td>0.360707</td>\n",
       "      <td>0.251881</td>\n",
       "      <td>0.732687</td>\n",
       "      <td>0.074825</td>\n",
       "      <td>0.046931</td>\n",
       "      <td>9780006280897</td>\n",
       "    </tr>\n",
       "    <tr>\n",
       "      <th>4</th>\n",
       "      <td>0.081412</td>\n",
       "      <td>0.184495</td>\n",
       "      <td>0.095043</td>\n",
       "      <td>0.035207</td>\n",
       "      <td>0.925904</td>\n",
       "      <td>0.475881</td>\n",
       "      <td>0.046931</td>\n",
       "      <td>9780006280934</td>\n",
       "    </tr>\n",
       "    <tr>\n",
       "      <th>...</th>\n",
       "      <td>...</td>\n",
       "      <td>...</td>\n",
       "      <td>...</td>\n",
       "      <td>...</td>\n",
       "      <td>...</td>\n",
       "      <td>...</td>\n",
       "      <td>...</td>\n",
       "      <td>...</td>\n",
       "    </tr>\n",
       "    <tr>\n",
       "      <th>5192</th>\n",
       "      <td>0.148209</td>\n",
       "      <td>0.030643</td>\n",
       "      <td>0.919165</td>\n",
       "      <td>0.255170</td>\n",
       "      <td>0.853722</td>\n",
       "      <td>0.980877</td>\n",
       "      <td>0.030656</td>\n",
       "      <td>9788172235222</td>\n",
       "    </tr>\n",
       "    <tr>\n",
       "      <th>5193</th>\n",
       "      <td>0.057145</td>\n",
       "      <td>0.157667</td>\n",
       "      <td>0.038787</td>\n",
       "      <td>0.400263</td>\n",
       "      <td>0.883199</td>\n",
       "      <td>0.074825</td>\n",
       "      <td>0.227765</td>\n",
       "      <td>9788173031014</td>\n",
       "    </tr>\n",
       "    <tr>\n",
       "      <th>5194</th>\n",
       "      <td>0.009997</td>\n",
       "      <td>0.009929</td>\n",
       "      <td>0.339217</td>\n",
       "      <td>0.947779</td>\n",
       "      <td>0.375756</td>\n",
       "      <td>0.066685</td>\n",
       "      <td>0.057625</td>\n",
       "      <td>9788179921623</td>\n",
       "    </tr>\n",
       "    <tr>\n",
       "      <th>5195</th>\n",
       "      <td>0.051973</td>\n",
       "      <td>0.157667</td>\n",
       "      <td>0.459269</td>\n",
       "      <td>0.759455</td>\n",
       "      <td>0.951104</td>\n",
       "      <td>0.368110</td>\n",
       "      <td>0.067808</td>\n",
       "      <td>9788185300535</td>\n",
       "    </tr>\n",
       "    <tr>\n",
       "      <th>5196</th>\n",
       "      <td>0.051973</td>\n",
       "      <td>0.157667</td>\n",
       "      <td>0.038787</td>\n",
       "      <td>0.958549</td>\n",
       "      <td>0.915193</td>\n",
       "      <td>0.074825</td>\n",
       "      <td>0.046931</td>\n",
       "      <td>9789027712059</td>\n",
       "    </tr>\n",
       "  </tbody>\n",
       "</table>\n",
       "<p>5197 rows × 8 columns</p>\n",
       "</div>"
      ]
     },
     "execution_count": 25,
     "metadata": {},
     "output_type": "execute_result"
    }
   ],
   "execution_count": 25
  },
  {
   "metadata": {
    "ExecuteTime": {
     "end_time": "2025-09-25T04:01:26.204836Z",
     "start_time": "2025-09-25T04:01:26.197140Z"
    }
   },
   "cell_type": "code",
   "source": "books = pd.merge(books, emotions_df, on = \"isbn13\")",
   "id": "7f293799fe426bfa",
   "outputs": [],
   "execution_count": 26
  },
  {
   "metadata": {
    "ExecuteTime": {
     "end_time": "2025-09-25T04:01:27.080446Z",
     "start_time": "2025-09-25T04:01:27.069004Z"
    }
   },
   "cell_type": "code",
   "source": "books",
   "id": "98dcb675124cd38d",
   "outputs": [
    {
     "data": {
      "text/plain": [
       "             isbn13      isbn10  \\\n",
       "0     9780002005883  0002005883   \n",
       "1     9780002261982  0002261987   \n",
       "2     9780006178736  0006178731   \n",
       "3     9780006280897  0006280897   \n",
       "4     9780006280934  0006280935   \n",
       "...             ...         ...   \n",
       "5192  9788172235222  8172235224   \n",
       "5193  9788173031014  8173031010   \n",
       "5194  9788179921623  817992162X   \n",
       "5195  9788185300535  8185300534   \n",
       "5196  9789027712059  9027712050   \n",
       "\n",
       "                                                  title  \\\n",
       "0                                                Gilead   \n",
       "1                                          Spider's Web   \n",
       "2                                        Rage of angels   \n",
       "3                                        The Four Loves   \n",
       "4                                   The Problem of Pain   \n",
       "...                                                 ...   \n",
       "5192                                  Mistaken Identity   \n",
       "5193                                Journey to the East   \n",
       "5194  The Monk Who Sold His Ferrari: A Fable About F...   \n",
       "5195                                          I Am that   \n",
       "5196                           The Berlin Phenomenology   \n",
       "\n",
       "                                           authors  \\\n",
       "0                               Marilynne Robinson   \n",
       "1                  Charles Osborne;Agatha Christie   \n",
       "2                                   Sidney Sheldon   \n",
       "3                              Clive Staples Lewis   \n",
       "4                              Clive Staples Lewis   \n",
       "...                                            ...   \n",
       "5192                              Nayantara Sahgal   \n",
       "5193                                 Hermann Hesse   \n",
       "5194                                  Robin Sharma   \n",
       "5195  Sri Nisargadatta Maharaj;Sudhakar S. Dikshit   \n",
       "5196                 Georg Wilhelm Friedrich Hegel   \n",
       "\n",
       "                         categories  \\\n",
       "0                           Fiction   \n",
       "1     Detective and mystery stories   \n",
       "2                           Fiction   \n",
       "3                    Christian life   \n",
       "4                    Christian life   \n",
       "...                             ...   \n",
       "5192        Indic fiction (English)   \n",
       "5193              Adventure stories   \n",
       "5194               Health & Fitness   \n",
       "5195                     Philosophy   \n",
       "5196                        History   \n",
       "\n",
       "                                              thumbnail  \\\n",
       "0     http://books.google.com/books/content?id=KQZCP...   \n",
       "1     http://books.google.com/books/content?id=gA5GP...   \n",
       "2     http://books.google.com/books/content?id=FKo2T...   \n",
       "3     http://books.google.com/books/content?id=XhQ5X...   \n",
       "4     http://books.google.com/books/content?id=Kk-uV...   \n",
       "...                                                 ...   \n",
       "5192  http://books.google.com/books/content?id=q-tKP...   \n",
       "5193  http://books.google.com/books/content?id=rq6JP...   \n",
       "5194  http://books.google.com/books/content?id=c_7mf...   \n",
       "5195  http://books.google.com/books/content?id=Fv_JP...   \n",
       "5196  http://books.google.com/books/content?id=Vy7Sk...   \n",
       "\n",
       "                                            description  published_year  \\\n",
       "0     A NOVEL THAT READERS and critics have been eag...          2004.0   \n",
       "1     A new 'Christie for Christmas' -- a full-lengt...          2000.0   \n",
       "2     A memorable, mesmerizing heroine Jennifer -- b...          1993.0   \n",
       "3     Lewis' work on the nature of love divides love...          2002.0   \n",
       "4     \"In The Problem of Pain, C.S. Lewis, one of th...          2002.0   \n",
       "...                                                 ...             ...   \n",
       "5192  On A Train Journey Home To North India After L...          2003.0   \n",
       "5193  This book tells the tale of a man who goes on ...          2002.0   \n",
       "5194  Wisdom to Create a Life of Passion, Purpose, a...          2003.0   \n",
       "5195  This collection of the timeless teachings of o...          1999.0   \n",
       "5196  Since the three volume edition ofHegel's Philo...          1981.0   \n",
       "\n",
       "      average_rating  num_pages  ...  \\\n",
       "0               3.85      247.0  ...   \n",
       "1               3.83      241.0  ...   \n",
       "2               3.93      512.0  ...   \n",
       "3               4.15      170.0  ...   \n",
       "4               4.09      176.0  ...   \n",
       "...              ...        ...  ...   \n",
       "5192            2.93      324.0  ...   \n",
       "5193            3.70      175.0  ...   \n",
       "5194            3.82      198.0  ...   \n",
       "5195            4.51      531.0  ...   \n",
       "5196            0.00      210.0  ...   \n",
       "\n",
       "                                     title_and_subtitle  \\\n",
       "0                                                Gilead   \n",
       "1                                 Spider's Web: A Novel   \n",
       "2                                        Rage of angels   \n",
       "3                                        The Four Loves   \n",
       "4                                   The Problem of Pain   \n",
       "...                                                 ...   \n",
       "5192                                  Mistaken Identity   \n",
       "5193                                Journey to the East   \n",
       "5194  The Monk Who Sold His Ferrari: A Fable About F...   \n",
       "5195     I Am that: Talks with Sri Nisargadatta Maharaj   \n",
       "5196                           The Berlin Phenomenology   \n",
       "\n",
       "                                     tagged_description simple_categories  \\\n",
       "0     9780002005883 A NOVEL THAT READERS and critics...           Fiction   \n",
       "1     9780002261982 A new 'Christie for Christmas' -...           Fiction   \n",
       "2     9780006178736 A memorable, mesmerizing heroine...           Fiction   \n",
       "3     9780006280897 Lewis' work on the nature of lov...        Nonfiction   \n",
       "4     9780006280934 \"In The Problem of Pain, C.S. Le...        Nonfiction   \n",
       "...                                                 ...               ...   \n",
       "5192  9788172235222 On A Train Journey Home To North...           Fiction   \n",
       "5193  9788173031014 This book tells the tale of a ma...        Nonfiction   \n",
       "5194  9788179921623 Wisdom to Create a Life of Passi...           Fiction   \n",
       "5195  9788185300535 This collection of the timeless ...        Nonfiction   \n",
       "5196  9789027712059 Since the three volume edition o...        Nonfiction   \n",
       "\n",
       "         anger   disgust      fear       joy   sadness  surprise   neutral  \n",
       "0     0.051973  0.273591  0.928168  0.932798  0.646216  0.967157  0.729603  \n",
       "1     0.612619  0.348285  0.942528  0.704421  0.887940  0.074825  0.252545  \n",
       "2     0.051973  0.157667  0.972321  0.767237  0.608933  0.074825  0.046931  \n",
       "3     0.351483  0.157667  0.360707  0.251881  0.732687  0.074825  0.046931  \n",
       "4     0.081412  0.184495  0.095043  0.035207  0.925904  0.475881  0.046931  \n",
       "...        ...       ...       ...       ...       ...       ...       ...  \n",
       "5192  0.148209  0.030643  0.919165  0.255170  0.853722  0.980877  0.030656  \n",
       "5193  0.057145  0.157667  0.038787  0.400263  0.883199  0.074825  0.227765  \n",
       "5194  0.009997  0.009929  0.339217  0.947779  0.375756  0.066685  0.057625  \n",
       "5195  0.051973  0.157667  0.459269  0.759455  0.951104  0.368110  0.067808  \n",
       "5196  0.051973  0.157667  0.038787  0.958549  0.915193  0.074825  0.046931  \n",
       "\n",
       "[5197 rows x 21 columns]"
      ],
      "text/html": [
       "<div>\n",
       "<style scoped>\n",
       "    .dataframe tbody tr th:only-of-type {\n",
       "        vertical-align: middle;\n",
       "    }\n",
       "\n",
       "    .dataframe tbody tr th {\n",
       "        vertical-align: top;\n",
       "    }\n",
       "\n",
       "    .dataframe thead th {\n",
       "        text-align: right;\n",
       "    }\n",
       "</style>\n",
       "<table border=\"1\" class=\"dataframe\">\n",
       "  <thead>\n",
       "    <tr style=\"text-align: right;\">\n",
       "      <th></th>\n",
       "      <th>isbn13</th>\n",
       "      <th>isbn10</th>\n",
       "      <th>title</th>\n",
       "      <th>authors</th>\n",
       "      <th>categories</th>\n",
       "      <th>thumbnail</th>\n",
       "      <th>description</th>\n",
       "      <th>published_year</th>\n",
       "      <th>average_rating</th>\n",
       "      <th>num_pages</th>\n",
       "      <th>...</th>\n",
       "      <th>title_and_subtitle</th>\n",
       "      <th>tagged_description</th>\n",
       "      <th>simple_categories</th>\n",
       "      <th>anger</th>\n",
       "      <th>disgust</th>\n",
       "      <th>fear</th>\n",
       "      <th>joy</th>\n",
       "      <th>sadness</th>\n",
       "      <th>surprise</th>\n",
       "      <th>neutral</th>\n",
       "    </tr>\n",
       "  </thead>\n",
       "  <tbody>\n",
       "    <tr>\n",
       "      <th>0</th>\n",
       "      <td>9780002005883</td>\n",
       "      <td>0002005883</td>\n",
       "      <td>Gilead</td>\n",
       "      <td>Marilynne Robinson</td>\n",
       "      <td>Fiction</td>\n",
       "      <td>http://books.google.com/books/content?id=KQZCP...</td>\n",
       "      <td>A NOVEL THAT READERS and critics have been eag...</td>\n",
       "      <td>2004.0</td>\n",
       "      <td>3.85</td>\n",
       "      <td>247.0</td>\n",
       "      <td>...</td>\n",
       "      <td>Gilead</td>\n",
       "      <td>9780002005883 A NOVEL THAT READERS and critics...</td>\n",
       "      <td>Fiction</td>\n",
       "      <td>0.051973</td>\n",
       "      <td>0.273591</td>\n",
       "      <td>0.928168</td>\n",
       "      <td>0.932798</td>\n",
       "      <td>0.646216</td>\n",
       "      <td>0.967157</td>\n",
       "      <td>0.729603</td>\n",
       "    </tr>\n",
       "    <tr>\n",
       "      <th>1</th>\n",
       "      <td>9780002261982</td>\n",
       "      <td>0002261987</td>\n",
       "      <td>Spider's Web</td>\n",
       "      <td>Charles Osborne;Agatha Christie</td>\n",
       "      <td>Detective and mystery stories</td>\n",
       "      <td>http://books.google.com/books/content?id=gA5GP...</td>\n",
       "      <td>A new 'Christie for Christmas' -- a full-lengt...</td>\n",
       "      <td>2000.0</td>\n",
       "      <td>3.83</td>\n",
       "      <td>241.0</td>\n",
       "      <td>...</td>\n",
       "      <td>Spider's Web: A Novel</td>\n",
       "      <td>9780002261982 A new 'Christie for Christmas' -...</td>\n",
       "      <td>Fiction</td>\n",
       "      <td>0.612619</td>\n",
       "      <td>0.348285</td>\n",
       "      <td>0.942528</td>\n",
       "      <td>0.704421</td>\n",
       "      <td>0.887940</td>\n",
       "      <td>0.074825</td>\n",
       "      <td>0.252545</td>\n",
       "    </tr>\n",
       "    <tr>\n",
       "      <th>2</th>\n",
       "      <td>9780006178736</td>\n",
       "      <td>0006178731</td>\n",
       "      <td>Rage of angels</td>\n",
       "      <td>Sidney Sheldon</td>\n",
       "      <td>Fiction</td>\n",
       "      <td>http://books.google.com/books/content?id=FKo2T...</td>\n",
       "      <td>A memorable, mesmerizing heroine Jennifer -- b...</td>\n",
       "      <td>1993.0</td>\n",
       "      <td>3.93</td>\n",
       "      <td>512.0</td>\n",
       "      <td>...</td>\n",
       "      <td>Rage of angels</td>\n",
       "      <td>9780006178736 A memorable, mesmerizing heroine...</td>\n",
       "      <td>Fiction</td>\n",
       "      <td>0.051973</td>\n",
       "      <td>0.157667</td>\n",
       "      <td>0.972321</td>\n",
       "      <td>0.767237</td>\n",
       "      <td>0.608933</td>\n",
       "      <td>0.074825</td>\n",
       "      <td>0.046931</td>\n",
       "    </tr>\n",
       "    <tr>\n",
       "      <th>3</th>\n",
       "      <td>9780006280897</td>\n",
       "      <td>0006280897</td>\n",
       "      <td>The Four Loves</td>\n",
       "      <td>Clive Staples Lewis</td>\n",
       "      <td>Christian life</td>\n",
       "      <td>http://books.google.com/books/content?id=XhQ5X...</td>\n",
       "      <td>Lewis' work on the nature of love divides love...</td>\n",
       "      <td>2002.0</td>\n",
       "      <td>4.15</td>\n",
       "      <td>170.0</td>\n",
       "      <td>...</td>\n",
       "      <td>The Four Loves</td>\n",
       "      <td>9780006280897 Lewis' work on the nature of lov...</td>\n",
       "      <td>Nonfiction</td>\n",
       "      <td>0.351483</td>\n",
       "      <td>0.157667</td>\n",
       "      <td>0.360707</td>\n",
       "      <td>0.251881</td>\n",
       "      <td>0.732687</td>\n",
       "      <td>0.074825</td>\n",
       "      <td>0.046931</td>\n",
       "    </tr>\n",
       "    <tr>\n",
       "      <th>4</th>\n",
       "      <td>9780006280934</td>\n",
       "      <td>0006280935</td>\n",
       "      <td>The Problem of Pain</td>\n",
       "      <td>Clive Staples Lewis</td>\n",
       "      <td>Christian life</td>\n",
       "      <td>http://books.google.com/books/content?id=Kk-uV...</td>\n",
       "      <td>\"In The Problem of Pain, C.S. Lewis, one of th...</td>\n",
       "      <td>2002.0</td>\n",
       "      <td>4.09</td>\n",
       "      <td>176.0</td>\n",
       "      <td>...</td>\n",
       "      <td>The Problem of Pain</td>\n",
       "      <td>9780006280934 \"In The Problem of Pain, C.S. Le...</td>\n",
       "      <td>Nonfiction</td>\n",
       "      <td>0.081412</td>\n",
       "      <td>0.184495</td>\n",
       "      <td>0.095043</td>\n",
       "      <td>0.035207</td>\n",
       "      <td>0.925904</td>\n",
       "      <td>0.475881</td>\n",
       "      <td>0.046931</td>\n",
       "    </tr>\n",
       "    <tr>\n",
       "      <th>...</th>\n",
       "      <td>...</td>\n",
       "      <td>...</td>\n",
       "      <td>...</td>\n",
       "      <td>...</td>\n",
       "      <td>...</td>\n",
       "      <td>...</td>\n",
       "      <td>...</td>\n",
       "      <td>...</td>\n",
       "      <td>...</td>\n",
       "      <td>...</td>\n",
       "      <td>...</td>\n",
       "      <td>...</td>\n",
       "      <td>...</td>\n",
       "      <td>...</td>\n",
       "      <td>...</td>\n",
       "      <td>...</td>\n",
       "      <td>...</td>\n",
       "      <td>...</td>\n",
       "      <td>...</td>\n",
       "      <td>...</td>\n",
       "      <td>...</td>\n",
       "    </tr>\n",
       "    <tr>\n",
       "      <th>5192</th>\n",
       "      <td>9788172235222</td>\n",
       "      <td>8172235224</td>\n",
       "      <td>Mistaken Identity</td>\n",
       "      <td>Nayantara Sahgal</td>\n",
       "      <td>Indic fiction (English)</td>\n",
       "      <td>http://books.google.com/books/content?id=q-tKP...</td>\n",
       "      <td>On A Train Journey Home To North India After L...</td>\n",
       "      <td>2003.0</td>\n",
       "      <td>2.93</td>\n",
       "      <td>324.0</td>\n",
       "      <td>...</td>\n",
       "      <td>Mistaken Identity</td>\n",
       "      <td>9788172235222 On A Train Journey Home To North...</td>\n",
       "      <td>Fiction</td>\n",
       "      <td>0.148209</td>\n",
       "      <td>0.030643</td>\n",
       "      <td>0.919165</td>\n",
       "      <td>0.255170</td>\n",
       "      <td>0.853722</td>\n",
       "      <td>0.980877</td>\n",
       "      <td>0.030656</td>\n",
       "    </tr>\n",
       "    <tr>\n",
       "      <th>5193</th>\n",
       "      <td>9788173031014</td>\n",
       "      <td>8173031010</td>\n",
       "      <td>Journey to the East</td>\n",
       "      <td>Hermann Hesse</td>\n",
       "      <td>Adventure stories</td>\n",
       "      <td>http://books.google.com/books/content?id=rq6JP...</td>\n",
       "      <td>This book tells the tale of a man who goes on ...</td>\n",
       "      <td>2002.0</td>\n",
       "      <td>3.70</td>\n",
       "      <td>175.0</td>\n",
       "      <td>...</td>\n",
       "      <td>Journey to the East</td>\n",
       "      <td>9788173031014 This book tells the tale of a ma...</td>\n",
       "      <td>Nonfiction</td>\n",
       "      <td>0.057145</td>\n",
       "      <td>0.157667</td>\n",
       "      <td>0.038787</td>\n",
       "      <td>0.400263</td>\n",
       "      <td>0.883199</td>\n",
       "      <td>0.074825</td>\n",
       "      <td>0.227765</td>\n",
       "    </tr>\n",
       "    <tr>\n",
       "      <th>5194</th>\n",
       "      <td>9788179921623</td>\n",
       "      <td>817992162X</td>\n",
       "      <td>The Monk Who Sold His Ferrari: A Fable About F...</td>\n",
       "      <td>Robin Sharma</td>\n",
       "      <td>Health &amp; Fitness</td>\n",
       "      <td>http://books.google.com/books/content?id=c_7mf...</td>\n",
       "      <td>Wisdom to Create a Life of Passion, Purpose, a...</td>\n",
       "      <td>2003.0</td>\n",
       "      <td>3.82</td>\n",
       "      <td>198.0</td>\n",
       "      <td>...</td>\n",
       "      <td>The Monk Who Sold His Ferrari: A Fable About F...</td>\n",
       "      <td>9788179921623 Wisdom to Create a Life of Passi...</td>\n",
       "      <td>Fiction</td>\n",
       "      <td>0.009997</td>\n",
       "      <td>0.009929</td>\n",
       "      <td>0.339217</td>\n",
       "      <td>0.947779</td>\n",
       "      <td>0.375756</td>\n",
       "      <td>0.066685</td>\n",
       "      <td>0.057625</td>\n",
       "    </tr>\n",
       "    <tr>\n",
       "      <th>5195</th>\n",
       "      <td>9788185300535</td>\n",
       "      <td>8185300534</td>\n",
       "      <td>I Am that</td>\n",
       "      <td>Sri Nisargadatta Maharaj;Sudhakar S. Dikshit</td>\n",
       "      <td>Philosophy</td>\n",
       "      <td>http://books.google.com/books/content?id=Fv_JP...</td>\n",
       "      <td>This collection of the timeless teachings of o...</td>\n",
       "      <td>1999.0</td>\n",
       "      <td>4.51</td>\n",
       "      <td>531.0</td>\n",
       "      <td>...</td>\n",
       "      <td>I Am that: Talks with Sri Nisargadatta Maharaj</td>\n",
       "      <td>9788185300535 This collection of the timeless ...</td>\n",
       "      <td>Nonfiction</td>\n",
       "      <td>0.051973</td>\n",
       "      <td>0.157667</td>\n",
       "      <td>0.459269</td>\n",
       "      <td>0.759455</td>\n",
       "      <td>0.951104</td>\n",
       "      <td>0.368110</td>\n",
       "      <td>0.067808</td>\n",
       "    </tr>\n",
       "    <tr>\n",
       "      <th>5196</th>\n",
       "      <td>9789027712059</td>\n",
       "      <td>9027712050</td>\n",
       "      <td>The Berlin Phenomenology</td>\n",
       "      <td>Georg Wilhelm Friedrich Hegel</td>\n",
       "      <td>History</td>\n",
       "      <td>http://books.google.com/books/content?id=Vy7Sk...</td>\n",
       "      <td>Since the three volume edition ofHegel's Philo...</td>\n",
       "      <td>1981.0</td>\n",
       "      <td>0.00</td>\n",
       "      <td>210.0</td>\n",
       "      <td>...</td>\n",
       "      <td>The Berlin Phenomenology</td>\n",
       "      <td>9789027712059 Since the three volume edition o...</td>\n",
       "      <td>Nonfiction</td>\n",
       "      <td>0.051973</td>\n",
       "      <td>0.157667</td>\n",
       "      <td>0.038787</td>\n",
       "      <td>0.958549</td>\n",
       "      <td>0.915193</td>\n",
       "      <td>0.074825</td>\n",
       "      <td>0.046931</td>\n",
       "    </tr>\n",
       "  </tbody>\n",
       "</table>\n",
       "<p>5197 rows × 21 columns</p>\n",
       "</div>"
      ]
     },
     "execution_count": 27,
     "metadata": {},
     "output_type": "execute_result"
    }
   ],
   "execution_count": 27
  },
  {
   "metadata": {
    "ExecuteTime": {
     "end_time": "2025-09-25T04:01:28.868878Z",
     "start_time": "2025-09-25T04:01:28.779737Z"
    }
   },
   "cell_type": "code",
   "source": "books.to_csv(\"books_with_emotions.csv\", index = False)",
   "id": "a75a9f76e3cb5d4b",
   "outputs": [],
   "execution_count": 28
  },
  {
   "metadata": {},
   "cell_type": "markdown",
   "source": [
    "再把它和 books 合并，变成一个更丰富的表格：\n",
    "👉 原始书籍信息 + 每本书的情绪特征。"
   ],
   "id": "387fcc36145f23af"
  }
 ],
 "metadata": {
  "kernelspec": {
   "display_name": "Python 3",
   "language": "python",
   "name": "python3"
  },
  "language_info": {
   "codemirror_mode": {
    "name": "ipython",
    "version": 2
   },
   "file_extension": ".py",
   "mimetype": "text/x-python",
   "name": "python",
   "nbconvert_exporter": "python",
   "pygments_lexer": "ipython2",
   "version": "2.7.6"
  }
 },
 "nbformat": 4,
 "nbformat_minor": 5
}
